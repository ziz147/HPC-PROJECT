{
 "cells": [
  {
   "cell_type": "markdown",
   "metadata": {},
   "source": [
    "# Validation\n",
    "On valide les matrices en 2d et en 3d.\n",
    "D'abord on choisit une dimension on laisse les calcules dans cette dimension en C en enregistrons tout les matrices de sortie et on change la dimension dans les parametres python a celle qu'on a choisi en c et on lance tout les validation dans ce notebook puis on change la dimension et on refait cette procedure"
   ]
  },
  {
   "cell_type": "markdown",
   "metadata": {},
   "source": [
    "## Calcul en Python de local_support BF_support et IND_mask_active"
   ]
  },
  {
   "cell_type": "code",
   "execution_count": null,
   "metadata": {},
   "outputs": [],
   "source": [
    "from compliance_mM import *\n",
    "from volume_mM import *\n",
    "import numpy as np\n",
    "from local_Support_mM import *\n",
    "from local_Support_mM import local_support_fun\n",
    "op_dir = os.path.join(WD, OP, problem_name)\n",
    "### Reading files ##\n",
    "ELEMENTS = np.loadtxt('ELEMENTS.dat')\n",
    "\n",
    "\n",
    "\n",
    "scale = 'standard'\n",
    "IND_mask = np.loadtxt(\"IND_mask_test.dat\",dtype=int)\n",
    "IND_mask_tot = np.loadtxt('IND_mask_tot_test.dat',dtype=int)\n",
    "U1 = np.loadtxt('U1.dat')\n",
    "U2 = np.loadtxt('U2.dat')\n",
    "U3 = np.loadtxt('U3.dat')\n",
    "\n",
    "\n",
    "\n",
    "#It's faster to compute BF_support than read it\n",
    "print(\"calcul local_support_fun\")\n",
    "local_support, BF_support, IND_mask_active = local_support_fun(ELEMENTS, IND_mask, IND_mask_tot, U1, U2, U3, scale)"
   ]
  },
  {
   "cell_type": "markdown",
   "metadata": {},
   "source": [
    "## Validation local_support"
   ]
  },
  {
   "cell_type": "markdown",
   "metadata": {},
   "source": [
    "### lire local_support"
   ]
  },
  {
   "cell_type": "code",
   "execution_count": null,
   "metadata": {},
   "outputs": [],
   "source": [
    "with open(\"local_Support_c.txt\", \"r\") as fichier:\n",
    "    lignes = fichier.readlines()  # Lire toutes les lignes du fichier\n",
    "\n",
    "local_c = []  # Initialiser une liste vide pour stocker les vecteurs\n",
    "\n",
    "# Parcourir chaque ligne et transformer les valeurs en entiers (ou flottants si nécessaire)\n",
    "for ligne in lignes:\n",
    "    valeurs = [int(valeur) for valeur in ligne.strip().split()]  # Divisez la ligne en valeurs et convertissez-les en entiers\n",
    "    local_c.append(valeurs)"
   ]
  },
  {
   "cell_type": "markdown",
   "metadata": {},
   "source": [
    "### visualiser les longeurs avant de comparer par le programme"
   ]
  },
  {
   "cell_type": "code",
   "execution_count": null,
   "metadata": {},
   "outputs": [],
   "source": [
    "import matplotlib.pyplot as plt\n",
    "longueurs = [len(vecteur) for vecteur in local_c]\n",
    "\n",
    "# Créez un graphique à barres pour représenter les longueurs\n",
    "plt.bar(range(len(longueurs)), longueurs)\n",
    "\n",
    "# Définissez les étiquettes des axes\n",
    "plt.xlabel('Index du vecteur')\n",
    "plt.ylabel('Longueur du vecteur')\n",
    "plt.title(\"local support en C\")\n",
    "\n",
    "# Affichez le graphique\n",
    "plt.show()\n",
    "longueurs = [len(vecteur) for vecteur in local_support]\n",
    "\n",
    "# Créez un graphique à barres pour représenter les longueurs\n",
    "plt.bar(range(len(longueurs)), longueurs)\n",
    "\n",
    "# Définissez les étiquettes des axes\n",
    "plt.xlabel('Index du vecteur')\n",
    "plt.ylabel('Longueur du vecteur')\n",
    "plt.title(\"local support en Python\")\n",
    "# Affichez le graphique\n",
    "plt.show()"
   ]
  },
  {
   "cell_type": "code",
   "execution_count": null,
   "metadata": {},
   "outputs": [],
   "source": [
    "import numpy as np\n",
    "are_equal = np.array_equal(local_c, local_support)\n",
    "\n",
    "if are_equal:\n",
    "    print(\"The two list are Equal.\")\n",
    "else:\n",
    "    print(\"The two list aren't Equal.\")"
   ]
  },
  {
   "cell_type": "markdown",
   "metadata": {},
   "source": [
    "## Validation IND Mask active"
   ]
  },
  {
   "cell_type": "markdown",
   "metadata": {},
   "source": [
    "### Lire le vecteur C"
   ]
  },
  {
   "cell_type": "code",
   "execution_count": null,
   "metadata": {},
   "outputs": [],
   "source": [
    "IND_mask_active_c = []\n",
    "\n",
    "# Ouvrir le fichier en mode lecture\n",
    "with open(\"IND_mask_active_c.txt\", \"r\") as fichier:\n",
    "    # Lire chaque ligne du fichier\n",
    "    for ligne in fichier:\n",
    "        # Convertir la ligne en un nombre (int ou float) et l'ajouter à la liste\n",
    "        # Utilisez float(ligne.strip()) si les nombres sont des flottants\n",
    "        IND_mask_active_c.append(int(float(ligne.strip())))\n"
   ]
  },
  {
   "cell_type": "code",
   "execution_count": null,
   "metadata": {},
   "outputs": [],
   "source": [
    "import numpy as np\n",
    "are_equal = np.array_equal(IND_mask_active_c, IND_mask_active)\n",
    "\n",
    "if are_equal:\n",
    "    print(\"The two list are Equal.\")\n",
    "else:\n",
    "    print(\"The two list aren't Equal.\")"
   ]
  },
  {
   "cell_type": "markdown",
   "metadata": {},
   "source": [
    "## Validation BF_Support"
   ]
  },
  {
   "cell_type": "markdown",
   "metadata": {},
   "source": [
    "### fonction pour lire nos matrice sparse"
   ]
  },
  {
   "cell_type": "code",
   "execution_count": null,
   "metadata": {},
   "outputs": [],
   "source": [
    "import numpy as np\n",
    "from scipy.sparse import coo_matrix\n",
    "\n",
    "def read_coo_matrix_chp(filename):\n",
    "    with open(filename, 'r') as file:\n",
    "        # Lire les dimensions et le nombre d'éléments non nuls\n",
    "        rows, cols, depth, non_zero_count = map(int, file.readline().split())\n",
    "\n",
    "        # Initialiser les listes pour les valeurs et les indices\n",
    "        data = []\n",
    "        row_indices = []\n",
    "        col_indices = []\n",
    "\n",
    "        # Lire les éléments non nuls\n",
    "        for _ in range(non_zero_count):\n",
    "            r, c, val = file.readline().split()\n",
    "            row_indices.append(int(r))\n",
    "            col_indices.append(int(c))\n",
    "            data.append(float(val))\n",
    "\n",
    "    # Créer la matrice COO\n",
    "    return coo_matrix((data, (row_indices, col_indices)), shape=(rows, cols)).toarray()\n",
    "\n",
    "# Utilisation de la fonction\n",
    "# coo_mat = read_coo_matrix_chp('nom_de_votre_fichier.txt')\n"
   ]
  },
  {
   "cell_type": "markdown",
   "metadata": {},
   "source": [
    "### Lecture de la matrice COO"
   ]
  },
  {
   "cell_type": "code",
   "execution_count": null,
   "metadata": {},
   "outputs": [],
   "source": [
    "BF_support_c=read_coo_matrix_chp('BF_Support_c.txt')\n"
   ]
  },
  {
   "cell_type": "markdown",
   "metadata": {},
   "source": [
    "### Fonction pour comparer les deux matrices (on les a rendu dense donc chacune a une memoire de 4.5Go donc on separe les comparaison)"
   ]
  },
  {
   "cell_type": "code",
   "execution_count": null,
   "metadata": {},
   "outputs": [],
   "source": [
    "import numpy as np\n",
    "\n",
    "def compare_large_matrice(array1, array2, chunk_size, atol):\n",
    "    # Vérifier si les formes des tableaux sont identiques\n",
    "    if array1.shape != array2.shape:\n",
    "        return False\n",
    "\n",
    "    rows, cols = array1.shape\n",
    "    # Parcourir les tableaux ligne par ligne\n",
    "    for i in range(0, rows, chunk_size):\n",
    "        # Déterminer la fin du segment actuel\n",
    "        end_i = min(i + chunk_size, rows)\n",
    "\n",
    "        # Comparer les segments des deux tableaux\n",
    "        if not np.isclose(array1[i:end_i], array2[i:end_i], atol=atol).all():\n",
    "            return False\n",
    "\n",
    "    return True"
   ]
  },
  {
   "cell_type": "code",
   "execution_count": null,
   "metadata": {},
   "outputs": [],
   "source": [
    "print(BF_support[0,0:20])\n",
    "print(BF_support_c[0,0:20])"
   ]
  },
  {
   "cell_type": "code",
   "execution_count": null,
   "metadata": {},
   "outputs": [],
   "source": [
    "chunk_size = 1000  \n",
    "atol=1e-10\n",
    "are_consistent = compare_large_matrice(BF_support_c, BF_support, chunk_size, atol)\n",
    "\n",
    "\n",
    "if are_consistent:\n",
    "    print(\"Both results are consistent.\")\n",
    "else:\n",
    "    print(\"There is a discrepancy between the results.\")"
   ]
  },
  {
   "cell_type": "markdown",
   "metadata": {},
   "source": [
    "## Calcul Der_Topo\n",
    "Si il y'as un probleme d'allocation relancer le notebook et lancer la premiere cellule puis revenir a celle la pour ne pas stocker les autres variables"
   ]
  },
  {
   "cell_type": "code",
   "execution_count": null,
   "metadata": {},
   "outputs": [],
   "source": [
    "del BF_support_c, IND_mask_active_c, local_c, U1,U2,U3,ELEMENTS"
   ]
  },
  {
   "cell_type": "markdown",
   "metadata": {},
   "source": [
    "### verification memoire\n",
    "Le code python a besoin d'au moins 8Gb de Ram si vous n'avez pas plus ca risque de ne pas marcher"
   ]
  },
  {
   "cell_type": "code",
   "execution_count": null,
   "metadata": {},
   "outputs": [],
   "source": [
    "import psutil\n",
    "\n",
    "# Obtenir la mémoire disponible\n",
    "mem = psutil.virtual_memory()\n",
    "print(f\"Mémoire disponible : {mem.available / (1024 * 1024 * 1024):.2f} GB\")"
   ]
  },
  {
   "cell_type": "code",
   "execution_count": null,
   "metadata": {},
   "outputs": [],
   "source": [
    "\n",
    "### Not the most efficient to read rho_e, but ensures it has the right dimension for brodcasting operations (number of elements,1)\n",
    "\n",
    "rho_temp = np.loadtxt('rho_e_test.dat')\n",
    "rho_e = np.zeros((len(rho_temp),1))\n",
    "rho_e[:,0] = rho_temp\n",
    "scale = 'standard'\n",
    "### P_rho and W are 3D arrays that were saved as 2D arrays, we thus must reshape them after reading\n",
    "P_rho = np.loadtxt('P_rho_test.dat').reshape(28,28,28)\n",
    "W = np.loadtxt('W_test.dat').reshape(28,28,28)\n",
    "der_CP, der_W, BF_mask=der_NURBS(local_support,BF_support,IND_mask_active,IND_mask,IND_mask_tot,P_rho,W,rho_e)\n",
    "\n"
   ]
  },
  {
   "cell_type": "code",
   "execution_count": null,
   "metadata": {},
   "outputs": [],
   "source": [
    "del BF_support"
   ]
  },
  {
   "cell_type": "markdown",
   "metadata": {},
   "source": [
    "## Validation BF_mask"
   ]
  },
  {
   "cell_type": "code",
   "execution_count": null,
   "metadata": {},
   "outputs": [],
   "source": [
    "BF_mask_c = []\n",
    "\n",
    "# Ouvrir le fichier en mode lecture\n",
    "with open(\"BF_mask_c.txt\", \"r\") as fichier:\n",
    "    # Lire chaque ligne du fichier\n",
    "    for ligne in fichier:\n",
    "        # Convertir la ligne en un nombre (int ou float) et l'ajouter à la liste\n",
    "        # Utilisez float(ligne.strip()) si les nombres sont des flottants\n",
    "        BF_mask_c.append(int(float(ligne.strip())))\n"
   ]
  },
  {
   "cell_type": "code",
   "execution_count": null,
   "metadata": {},
   "outputs": [],
   "source": [
    "import numpy as np\n",
    "are_equal = np.array_equal(BF_mask_c, BF_mask)\n",
    "\n",
    "if are_equal:\n",
    "    print(\"The two list are Equal.\")\n",
    "else:\n",
    "    print(\"The two list aren't Equal.\")"
   ]
  },
  {
   "cell_type": "code",
   "execution_count": null,
   "metadata": {},
   "outputs": [],
   "source": [
    "del BF_mask, BF_mask_c"
   ]
  },
  {
   "cell_type": "markdown",
   "metadata": {},
   "source": [
    "## Validation der_W"
   ]
  },
  {
   "cell_type": "markdown",
   "metadata": {},
   "source": [
    "### Lire la matrice COO"
   ]
  },
  {
   "cell_type": "code",
   "execution_count": null,
   "metadata": {},
   "outputs": [],
   "source": [
    "import numpy as np\n",
    "from scipy.sparse import coo_matrix\n",
    "\n",
    "def read_coo_matrix_chp(filename):\n",
    "    with open(filename, 'r') as file:\n",
    "        # Lire les dimensions et le nombre d'éléments non nuls\n",
    "        rows, cols, depth, non_zero_count = map(int, file.readline().split())\n",
    "\n",
    "        # Initialiser les listes pour les valeurs et les indices\n",
    "        data = []\n",
    "        row_indices = []\n",
    "        col_indices = []\n",
    "\n",
    "        # Lire les éléments non nuls\n",
    "        for _ in range(non_zero_count):\n",
    "            r, c, val = file.readline().split()\n",
    "            row_indices.append(int(r))\n",
    "            col_indices.append(int(c))\n",
    "            data.append(float(val))\n",
    "\n",
    "    # Créer la matrice COO\n",
    "    return coo_matrix((data, (row_indices, col_indices)), shape=(rows, cols)).toarray()\n",
    "\n",
    "# Utilisation de la fonction\n",
    "# coo_mat = read_coo_matrix_chp('nom_de_votre_fichier.txt')\n"
   ]
  },
  {
   "cell_type": "code",
   "execution_count": null,
   "metadata": {},
   "outputs": [],
   "source": [
    "der_W_c=read_coo_matrix_chp('der_W_c.txt')\n"
   ]
  },
  {
   "cell_type": "code",
   "execution_count": null,
   "metadata": {},
   "outputs": [],
   "source": [
    "import numpy as np\n",
    "\n",
    "def compare_large_matrice(array1, array2, chunk_size, atol):\n",
    "    # Vérifier si les formes des tableaux sont identiques\n",
    "    if array1.shape != array2.shape:\n",
    "        return False\n",
    "\n",
    "    rows, cols = array1.shape\n",
    "    # Parcourir les tableaux ligne par ligne\n",
    "    for i in range(0, rows, chunk_size):\n",
    "        # Déterminer la fin du segment actuel\n",
    "        end_i = min(i + chunk_size, rows)\n",
    "\n",
    "        # Comparer les segments des deux tableaux\n",
    "        if not np.isclose(array1[i:end_i], array2[i:end_i], atol=atol).all():\n",
    "            return False\n",
    "\n",
    "    return True"
   ]
  },
  {
   "cell_type": "code",
   "execution_count": null,
   "metadata": {},
   "outputs": [],
   "source": [
    "print(der_W_c[0,0:20])\n",
    "print(der_W[0,0:20])"
   ]
  },
  {
   "cell_type": "code",
   "execution_count": null,
   "metadata": {},
   "outputs": [],
   "source": [
    "chunk_size = 1000  \n",
    "atol=1e-7\n",
    "are_consistent = compare_large_matrice(der_W_c, der_W, chunk_size, atol)\n",
    "\n",
    "\n",
    "if are_consistent:\n",
    "    print(\"Both results are consistent.\")\n",
    "else:\n",
    "    print(\"There is a discrepancy between the results.\")"
   ]
  },
  {
   "cell_type": "code",
   "execution_count": null,
   "metadata": {},
   "outputs": [],
   "source": [
    "del der_W_c, der_W"
   ]
  },
  {
   "cell_type": "markdown",
   "metadata": {},
   "source": [
    "## Validation der_CP"
   ]
  },
  {
   "cell_type": "code",
   "execution_count": null,
   "metadata": {},
   "outputs": [],
   "source": [
    "der_CP_c=read_coo_matrix_chp('der_CP_c.txt')\n"
   ]
  },
  {
   "cell_type": "code",
   "execution_count": null,
   "metadata": {},
   "outputs": [],
   "source": [
    "print(der_CP_c[0,0:20])\n",
    "print(der_CP[0,0:20])"
   ]
  },
  {
   "cell_type": "code",
   "execution_count": null,
   "metadata": {},
   "outputs": [],
   "source": [
    "chunk_size = 1000  \n",
    "tol=1e-6\n",
    "are_consistent = compare_large_matrice(der_CP_c, der_CP, chunk_size, atol=tol)\n",
    "\n",
    "\n",
    "if are_consistent:\n",
    "    print(\"Both results are consistent.\")\n",
    "else:\n",
    "    print(\"There is a discrepancy between the results.\")"
   ]
  }
 ],
 "metadata": {
  "kernelspec": {
   "display_name": "Python 3",
   "language": "python",
   "name": "python3"
  },
  "language_info": {
   "codemirror_mode": {
    "name": "ipython",
    "version": 3
   },
   "file_extension": ".py",
   "mimetype": "text/x-python",
   "name": "python",
   "nbconvert_exporter": "python",
   "pygments_lexer": "ipython3",
   "version": "3.10.1"
  }
 },
 "nbformat": 4,
 "nbformat_minor": 2
}
