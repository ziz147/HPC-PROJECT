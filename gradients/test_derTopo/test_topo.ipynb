{
 "cells": [
  {
   "cell_type": "code",
   "execution_count": 1,
   "metadata": {},
   "outputs": [
    {
     "name": "stdout",
     "output_type": "stream",
     "text": [
      "There is a discrepancy between the results.\n"
     ]
    }
   ],
   "source": [
    "import sys\n",
    "sys.path.append(r'C:\\Users\\red-y\\Desktop\\S9\\HPC-PROJECT\\GRADIENTS')  # Utilisation de la barre oblique inversée brute\n",
    "\n",
    "from compliance_mM import *\n",
    "from volume_mM import *\n",
    "import numpy as np\n",
    "from local_Support_mM import *\n",
    "\n",
    "\n",
    "op_dir = os.path.join(WD, OP, problem_name)\n",
    "### Reading files ##\n",
    "ELEMENTS = np.loadtxt('ELEMENTS.dat')\n",
    "\n",
    "### Not the most efficient to read rho_e, but ensures it has the right dimension for brodcasting operations (number of elements,1)\n",
    "\n",
    "rho_temp = np.loadtxt('rho_e_test.dat')\n",
    "rho_e = np.zeros((len(rho_temp),1))\n",
    "rho_e[:,0] = rho_temp\n",
    "\n",
    "scale = 'standard'\n",
    "IND_mask = np.loadtxt(\"IND_mask_test.dat\",dtype=int)\n",
    "IND_mask_tot = np.loadtxt('IND_mask_tot_test.dat',dtype=int)\n",
    "U1 = np.loadtxt('U1.dat')\n",
    "U2 = np.loadtxt('U2.dat')\n",
    "U3 = np.loadtxt('U3.dat')\n",
    "\n",
    "### P_rho and W are 3D arrays that were saved as 2D arrays, we thus must reshape them after reading\n",
    "P_rho = np.loadtxt('P_rho_test.dat').reshape(28,28,28)\n",
    "W = np.loadtxt('W_test.dat').reshape(28,28,28)\n",
    "\n",
    "#It's faster to compute BF_support than read it\n",
    "print(\"calcul local_support_fun\")\n",
    "local_support, BF_support, IND_mask_active = local_support_fun(ELEMENTS, IND_mask, IND_mask_tot, U1, U2, U3, scale)\n",
    "print(\"calcul der_NURBS\")\n",
    "der_CP, der_W, BF_mask=der_NURBS(local_support,BF_support,IND_mask_active,IND_mask,IND_mask_tot,P_rho,W,rho_e)\n",
    "print(\"load der_CP_c\")\n",
    "der_CP_c = np.loadtxt('der_CP_c.txt')\n",
    "print(\"debut de la comparaison.\")\n",
    "# Compare 'der_CP' (Python computed) and 'der_CP_c' (loaded from file)\n",
    "comparison = np.isclose(der_CP, der_CP_c, atol=1e-8)  # Set an appropriate tolerance\n",
    "\n",
    "# Check if all elements are close enough\n",
    "if comparison.all():\n",
    "    print(\"Both results are consistent.\")\n",
    "else:\n",
    "    print(\"There is a discrepancy between the results.\")"
   ]
  },
  {
   "cell_type": "code",
   "execution_count": 26,
   "metadata": {},
   "outputs": [
    {
     "name": "stdout",
     "output_type": "stream",
     "text": [
      "100 premiers éléments de der_CP:\n",
      "[8.78225664e-10 1.59995084e-09 2.56782257e-10 0.00000000e+00\n",
      " 0.00000000e+00 0.00000000e+00 0.00000000e+00 0.00000000e+00\n",
      " 0.00000000e+00 0.00000000e+00 0.00000000e+00 0.00000000e+00\n",
      " 0.00000000e+00 0.00000000e+00 0.00000000e+00 0.00000000e+00\n",
      " 0.00000000e+00 0.00000000e+00 0.00000000e+00 0.00000000e+00\n",
      " 0.00000000e+00 0.00000000e+00 0.00000000e+00 0.00000000e+00\n",
      " 0.00000000e+00 0.00000000e+00 0.00000000e+00 0.00000000e+00\n",
      " 1.59995084e-09 2.91478922e-09 4.67805719e-10 0.00000000e+00\n",
      " 0.00000000e+00 0.00000000e+00 0.00000000e+00 0.00000000e+00\n",
      " 0.00000000e+00 0.00000000e+00 0.00000000e+00 0.00000000e+00\n",
      " 0.00000000e+00 0.00000000e+00 0.00000000e+00 0.00000000e+00\n",
      " 0.00000000e+00 0.00000000e+00 0.00000000e+00 0.00000000e+00\n",
      " 0.00000000e+00 0.00000000e+00 0.00000000e+00 0.00000000e+00\n",
      " 0.00000000e+00 0.00000000e+00 0.00000000e+00 0.00000000e+00\n",
      " 2.56782257e-10 4.67805719e-10 7.50799368e-11 0.00000000e+00\n",
      " 0.00000000e+00 0.00000000e+00 0.00000000e+00 0.00000000e+00\n",
      " 0.00000000e+00 0.00000000e+00 0.00000000e+00 0.00000000e+00\n",
      " 0.00000000e+00 0.00000000e+00 0.00000000e+00 0.00000000e+00\n",
      " 0.00000000e+00 0.00000000e+00 0.00000000e+00 0.00000000e+00\n",
      " 0.00000000e+00 0.00000000e+00 0.00000000e+00 0.00000000e+00\n",
      " 0.00000000e+00 0.00000000e+00 0.00000000e+00 0.00000000e+00\n",
      " 0.00000000e+00 0.00000000e+00 0.00000000e+00 0.00000000e+00\n",
      " 0.00000000e+00 0.00000000e+00 0.00000000e+00 0.00000000e+00\n",
      " 0.00000000e+00 0.00000000e+00 0.00000000e+00 0.00000000e+00\n",
      " 0.00000000e+00 0.00000000e+00 0.00000000e+00 0.00000000e+00]\n",
      "\n",
      "100 premiers éléments de der_CP_c:\n",
      "[0.003683 0.003683 0.003683 0.003683 0.003683 0.003683 0.003683 0.003683\n",
      " 0.003683 0.003683 0.003683 0.003683 0.003683 0.003683 0.003683 0.003683\n",
      " 0.003683 0.003683 0.003683 0.003683 0.003683 0.003683 0.003683 0.003683\n",
      " 0.003683 0.003683 0.003683 0.003683 0.006709 0.006709 0.006709 0.006709\n",
      " 0.006709 0.006709 0.006709 0.006709 0.006709 0.006709 0.006709 0.006709\n",
      " 0.006709 0.006709 0.006709 0.006709 0.006709 0.006709 0.006709 0.006709\n",
      " 0.006709 0.006709 0.006709 0.006709 0.006709 0.006709 0.006709 0.006709\n",
      " 0.001077 0.001077 0.001077 0.001077 0.001077 0.001077 0.001077 0.001077\n",
      " 0.001077 0.001077 0.001077 0.001077 0.001077 0.001077 0.001077 0.001077\n",
      " 0.001077 0.001077 0.001077 0.001077 0.001077 0.001077 0.001077 0.001077\n",
      " 0.001077 0.001077 0.001077 0.001077 0.       0.       0.       0.\n",
      " 0.       0.       0.       0.       0.       0.       0.       0.\n",
      " 0.       0.       0.       0.      ]\n"
     ]
    }
   ],
   "source": [
    "print(\"100 premiers éléments de der_CP:\")\n",
    "print(der_W[0, 0:100])\n",
    "\n",
    "print(\"\\n100 premiers éléments de der_CP_c:\")\n",
    "print(der_CP_c[0, 0:100])"
   ]
  },
  {
   "cell_type": "code",
   "execution_count": 4,
   "metadata": {},
   "outputs": [
    {
     "name": "stdout",
     "output_type": "stream",
     "text": [
      "calcul local_support_fun\n"
     ]
    }
   ],
   "source": [
    "import sys\n",
    "sys.path.append(r'C:\\Users\\red-y\\Desktop\\S9\\HPC-PROJECT\\GRADIENTS')  # Utilisation de la barre oblique inversée brute\n",
    "\n",
    "from compliance_mM import *\n",
    "from volume_mM import *\n",
    "import numpy as np\n",
    "from local_Support_mM import *\n",
    "\n",
    "\n",
    "op_dir = os.path.join(WD, OP, problem_name)\n",
    "### Reading files ##\n",
    "ELEMENTS = np.loadtxt('ELEMENTS.dat')\n",
    "\n",
    "### Not the most efficient to read rho_e, but ensures it has the right dimension for brodcasting operations (number of elements,1)\n",
    "\n",
    "rho_temp = np.loadtxt('rho_e_test.dat')\n",
    "rho_e = np.zeros((len(rho_temp),1))\n",
    "rho_e[:,0] = rho_temp\n",
    "\n",
    "scale = 'standard'\n",
    "IND_mask = np.loadtxt(\"IND_mask_test.dat\",dtype=int)\n",
    "IND_mask_tot = np.loadtxt('IND_mask_tot_test.dat',dtype=int)\n",
    "U1 = np.loadtxt('U1.dat')\n",
    "U2 = np.loadtxt('U2.dat')\n",
    "U3 = np.loadtxt('U3.dat')\n",
    "\n",
    "### P_rho and W are 3D arrays that were saved as 2D arrays, we thus must reshape them after reading\n",
    "P_rho = np.loadtxt('P_rho_test.dat').reshape(28,28,28)\n",
    "W = np.loadtxt('W_test.dat').reshape(28,28,28)\n",
    "\n",
    "#It's faster to compute BF_support than read it\n",
    "print(\"calcul local_support_fun\")\n",
    "local_support, BF_support, IND_mask_active = local_support_fun(ELEMENTS, IND_mask, IND_mask_tot, U1, U2, U3, scale)\n"
   ]
  },
  {
   "cell_type": "code",
   "execution_count": 2,
   "metadata": {},
   "outputs": [
    {
     "name": "stdout",
     "output_type": "stream",
     "text": [
      "100 premiers éléments de BF_support:\n",
      "[0.03311052 0.06032072 0.0096811  0.         0.         0.\n",
      " 0.         0.         0.         0.         0.         0.\n",
      " 0.         0.         0.         0.         0.         0.\n",
      " 0.         0.         0.         0.         0.         0.\n",
      " 0.         0.         0.         0.         0.06032072 0.10989224\n",
      " 0.01763703 0.         0.         0.         0.         0.\n",
      " 0.         0.         0.         0.         0.         0.\n",
      " 0.         0.         0.         0.         0.         0.\n",
      " 0.         0.         0.         0.         0.         0.\n",
      " 0.         0.         0.0096811  0.01763703 0.00283063 0.\n",
      " 0.         0.         0.         0.         0.         0.\n",
      " 0.         0.         0.         0.         0.         0.\n",
      " 0.         0.         0.         0.         0.         0.\n",
      " 0.         0.         0.         0.         0.         0.\n",
      " 0.         0.         0.         0.         0.         0.\n",
      " 0.         0.         0.         0.         0.         0.\n",
      " 0.         0.         0.         0.        ]\n",
      "\n",
      "100 premiers éléments de BF_support_c:\n"
     ]
    },
    {
     "ename": "NameError",
     "evalue": "name 'der_CP_c' is not defined",
     "output_type": "error",
     "traceback": [
      "\u001b[1;31m---------------------------------------------------------------------------\u001b[0m",
      "\u001b[1;31mNameError\u001b[0m                                 Traceback (most recent call last)",
      "Cell \u001b[1;32mIn[2], line 6\u001b[0m\n\u001b[0;32m      3\u001b[0m \u001b[38;5;28mprint\u001b[39m(BF_support[\u001b[38;5;241m0\u001b[39m, \u001b[38;5;241m0\u001b[39m:\u001b[38;5;241m100\u001b[39m])\n\u001b[0;32m      5\u001b[0m \u001b[38;5;28mprint\u001b[39m(\u001b[38;5;124m\"\u001b[39m\u001b[38;5;130;01m\\n\u001b[39;00m\u001b[38;5;124m100 premiers éléments de BF_support_c:\u001b[39m\u001b[38;5;124m\"\u001b[39m)\n\u001b[1;32m----> 6\u001b[0m \u001b[38;5;28mprint\u001b[39m(\u001b[43mder_CP_c\u001b[49m[\u001b[38;5;241m0\u001b[39m, \u001b[38;5;241m0\u001b[39m:\u001b[38;5;241m100\u001b[39m])\n",
      "\u001b[1;31mNameError\u001b[0m: name 'der_CP_c' is not defined"
     ]
    }
   ],
   "source": [
    "BF_support_c = np.loadtxt('BF_support_c.txt')\n",
    "print(\"100 premiers éléments de BF_support:\")\n",
    "print(BF_support[0, 0:100])\n",
    "\n",
    "print(\"\\n100 premiers éléments de BF_support_c:\")\n",
    "print(der_CP_c[0, 0:100])"
   ]
  },
  {
   "cell_type": "code",
   "execution_count": 10,
   "metadata": {},
   "outputs": [
    {
     "name": "stdout",
     "output_type": "stream",
     "text": [
      "\n",
      "100 premiers éléments de BF_support_c:\n",
      "[0.103112 0.103112 0.103112 0.103112 0.103112 0.103112 0.103112 0.103112\n",
      " 0.103112 0.103112 0.103112 0.103112 0.103112 0.103112 0.103112 0.103112\n",
      " 0.103112 0.103112 0.103112 0.103112 0.103112 0.103112 0.103112 0.103112\n",
      " 0.103112 0.103112 0.103112 0.103112 0.18785  0.18785  0.18785  0.18785\n",
      " 0.18785  0.18785  0.18785  0.18785  0.18785  0.18785  0.18785  0.18785\n",
      " 0.18785  0.18785  0.18785  0.18785  0.18785  0.18785  0.18785  0.18785\n",
      " 0.18785  0.18785  0.18785  0.18785  0.18785  0.18785  0.18785  0.18785\n",
      " 0.030149 0.030149 0.030149 0.030149 0.030149 0.030149 0.030149 0.030149\n",
      " 0.030149 0.030149 0.030149 0.030149 0.030149 0.030149 0.030149 0.030149\n",
      " 0.030149 0.030149 0.030149 0.030149 0.030149 0.030149 0.030149 0.030149\n",
      " 0.030149 0.030149 0.030149 0.030149 0.       0.       0.       0.\n",
      " 0.       0.       0.       0.       0.       0.       0.       0.\n",
      " 0.       0.       0.       0.      ]\n",
      "\n",
      "100 premiers éléments de BF_support_c:\n",
      "[0.03311052 0.06032072 0.0096811  0.         0.         0.\n",
      " 0.         0.         0.         0.         0.         0.\n",
      " 0.         0.         0.         0.         0.         0.\n",
      " 0.         0.         0.         0.         0.         0.\n",
      " 0.         0.         0.         0.         0.06032072 0.10989224\n",
      " 0.01763703 0.         0.         0.         0.         0.\n",
      " 0.         0.         0.         0.         0.         0.\n",
      " 0.         0.         0.         0.         0.         0.\n",
      " 0.         0.         0.         0.         0.         0.\n",
      " 0.         0.         0.0096811  0.01763703 0.00283063 0.\n",
      " 0.         0.         0.         0.         0.         0.\n",
      " 0.         0.         0.         0.         0.         0.\n",
      " 0.         0.         0.         0.         0.         0.\n",
      " 0.         0.         0.         0.         0.         0.\n",
      " 0.         0.         0.         0.         0.         0.\n",
      " 0.         0.         0.         0.         0.         0.\n",
      " 0.         0.         0.         0.        ]\n"
     ]
    }
   ],
   "source": [
    "print(\"\\n100 premiers éléments de BF_support_c:\")\n",
    "print(BF_support_c[0, 0:100]) \n",
    "print(\"\\n100 premiers éléments de BF_support_c:\")\n",
    "print(BF_support[0, 0:100])"
   ]
  },
  {
   "cell_type": "code",
   "execution_count": null,
   "metadata": {},
   "outputs": [],
   "source": [
    "\n",
    "print(\"debut de la comparaison.\")\n",
    "# Compare 'der_CP' (Python computed) and 'der_CP_c' (loaded from file)\n",
    "comparison = np.isclose(BF_support, BF_support_c, atol=1e-8)  # Set an appropriate tolerance\n",
    "\n",
    "# Check if all elements are close enough\n",
    "if comparison.all():\n",
    "    print(\"Both results are consistent.\")\n",
    "else:\n",
    "    print(\"There is a discrepancy between the results.\")"
   ]
  }
 ],
 "metadata": {
  "kernelspec": {
   "display_name": "Python 3",
   "language": "python",
   "name": "python3"
  },
  "language_info": {
   "codemirror_mode": {
    "name": "ipython",
    "version": 3
   },
   "file_extension": ".py",
   "mimetype": "text/x-python",
   "name": "python",
   "nbconvert_exporter": "python",
   "pygments_lexer": "ipython3",
   "version": "3.10.1"
  }
 },
 "nbformat": 4,
 "nbformat_minor": 2
}
