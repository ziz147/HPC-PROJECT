{
 "cells": [
  {
   "cell_type": "code",
   "execution_count": 1,
   "metadata": {},
   "outputs": [
    {
     "name": "stderr",
     "output_type": "stream",
     "text": [
      "Exception ignored on calling ctypes callback function: <function ExecutionEngine._raw_object_cache_notify at 0x000002C2D7360280>\n",
      "Traceback (most recent call last):\n",
      "  File \"c:\\Users\\red-y\\AppData\\Local\\Programs\\Python\\Python310\\lib\\site-packages\\llvmlite\\binding\\executionengine.py\", line 171, in _raw_object_cache_notify\n",
      "    def _raw_object_cache_notify(self, data):\n",
      "KeyboardInterrupt: \n"
     ]
    }
   ],
   "source": [
    "import sys\n",
    "sys.path.append(r'C:\\Users\\red-y\\Desktop\\S9\\HPC-PROJECT\\GRADIENTS')  # Utilisation de la barre oblique inversée brute\n",
    "\n",
    "from compliance_mM import *\n",
    "from volume_mM import *\n",
    "import numpy as np\n",
    "from local_Support_mM import *\n",
    "\n",
    "\n",
    "op_dir = os.path.join(WD, OP, problem_name)\n",
    "### Reading files ##\n",
    "ELEMENTS = np.loadtxt('ELEMENTS.dat')\n",
    "\n",
    "### Not the most efficient to read rho_e, but ensures it has the right dimension for brodcasting operations (number of elements,1)\n",
    "\n",
    "rho_temp = np.loadtxt('rho_e_test.dat')\n",
    "rho_e = np.zeros((len(rho_temp),1))\n",
    "rho_e[:,0] = rho_temp\n",
    "\n",
    "scale = 'standard'\n",
    "IND_mask = np.loadtxt(\"IND_mask_test.dat\",dtype=int)\n",
    "IND_mask_tot = np.loadtxt('IND_mask_tot_test.dat',dtype=int)\n",
    "U1 = np.loadtxt('U1.dat')\n",
    "U2 = np.loadtxt('U2.dat')\n",
    "U3 = np.loadtxt('U3.dat')\n",
    "\n",
    "### P_rho and W are 3D arrays that were saved as 2D arrays, we thus must reshape them after reading\n",
    "P_rho = np.loadtxt('P_rho_test.dat').reshape(28,28,28)\n",
    "W = np.loadtxt('W_test.dat').reshape(28,28,28)\n",
    "\n",
    "#It's faster to compute BF_support than read it\n",
    "local_support, BF_support, IND_mask_active = local_support_fun(ELEMENTS, IND_mask, IND_mask_tot, U1, U2, U3, scale)\n",
    "der_CP, der_W, BF_mask=der_NURBS(local_support,BF_support,IND_mask_active,IND_mask,IND_mask_tot,P_rho,W,rho_e)\n",
    "np.savetxt('der_CP_py.txt', der_CP, fmt='%f')  \n",
    "np.savetxt('der_W_py.txt', der_W, fmt='%f') \n",
    "np.savetxt('BF_mask_py.txt', BF_mask, fmt='%f')"
   ]
  }
 ],
 "metadata": {
  "kernelspec": {
   "display_name": "Python 3",
   "language": "python",
   "name": "python3"
  },
  "language_info": {
   "codemirror_mode": {
    "name": "ipython",
    "version": 3
   },
   "file_extension": ".py",
   "mimetype": "text/x-python",
   "name": "python",
   "nbconvert_exporter": "python",
   "pygments_lexer": "ipython3",
   "version": "3.10.1"
  }
 },
 "nbformat": 4,
 "nbformat_minor": 2
}
