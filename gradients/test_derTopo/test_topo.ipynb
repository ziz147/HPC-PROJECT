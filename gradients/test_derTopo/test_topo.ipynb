{
 "cells": [
  {
   "cell_type": "code",
   "execution_count": null,
   "metadata": {},
   "outputs": [],
   "source": [
    "from compliance_mM import *\n",
    "from volume_mM import *\n",
    "import numpy as np\n",
    "from local_Support_mM import *\n",
    "from local_Support_mM import local_support_fun\n",
    "op_dir = os.path.join(WD, OP, problem_name)\n",
    "### Reading files ##\n",
    "ELEMENTS = np.loadtxt('ELEMENTS.dat')\n",
    "\n",
    "### Not the most efficient to read rho_e, but ensures it has the right dimension for brodcasting operations (number of elements,1)\n",
    "\n",
    "rho_temp = np.loadtxt('rho_e_test.dat')\n",
    "rho_e = np.zeros((len(rho_temp),1))\n",
    "rho_e[:,0] = rho_temp\n",
    "\n",
    "scale = 'standard'\n",
    "IND_mask = np.loadtxt(\"IND_mask_test.dat\",dtype=int)\n",
    "IND_mask_tot = np.loadtxt('IND_mask_tot_test.dat',dtype=int)\n",
    "U1 = np.loadtxt('U1.dat')\n",
    "U2 = np.loadtxt('U2.dat')\n",
    "U3 = np.loadtxt('U3.dat')\n",
    "\n",
    "### P_rho and W are 3D arrays that were saved as 2D arrays, we thus must reshape them after reading\n",
    "P_rho = np.loadtxt('P_rho_test.dat').reshape(28,28,28)\n",
    "W = np.loadtxt('W_test.dat').reshape(28,28,28)\n",
    "print(\"Shape de la matrice:\", W.shape)\n",
    "\n",
    "#It's faster to compute BF_support than read it\n",
    "print(\"calcul local_support_fun\")\n",
    "local_support, BF_support, IND_mask_active = local_support_fun(ELEMENTS, IND_mask, IND_mask_tot, U1, U2, U3, scale)\n",
    "print(\"calcul der_NURBS\")\n",
    "der_CP, der_W, BF_mask=der_NURBS(local_support,BF_support,IND_mask_active,IND_mask,IND_mask_tot,P_rho,W,rho_e)\n",
    "print(\"load der_CP_c\")\n",
    "#der_CP_c = np.loadtxt('der_CP_c.txt')\n",
    "print(\"debut de la comparaison.\")\n",
    "#print(BF_support[0, 0:100])\n",
    "# Compare 'der_CP' (Python computed) and 'der_CP_c' (loaded from file)\n",
    "#comparison = np.isclose(W, BF_support, atol=1e-8)  # Set an appropriate tolerance\n",
    "\n",
    "# Check if all elements are close enough\n",
    "#if comparison.all():\n",
    " #   print(\"Both results are consistent.\")\n",
    "#else:\n",
    " #   print(\"There is a discrepancy between the results.\")\n"
   ]
  },
  {
   "cell_type": "code",
   "execution_count": null,
   "metadata": {},
   "outputs": [],
   "source": [
    "print(\"Shape de la matrice:\", der_CP.shape)\n",
    "print(\"Shape du vecteur:\", der_CP.shape)"
   ]
  },
  {
   "cell_type": "code",
   "execution_count": null,
   "metadata": {},
   "outputs": [],
   "source": [
    "import numpy as np\n",
    "from scipy.sparse import coo_matrix\n",
    "\n",
    "def read_coo_matrix(filename):\n",
    "    with open(filename, 'r') as file:\n",
    "        # Lire les dimensions et le nombre d'éléments non nuls\n",
    "        rows, cols, depth, non_zero_count = map(int, file.readline().split())\n",
    "\n",
    "        # Initialiser les listes pour les valeurs et les indices\n",
    "        data = []\n",
    "        row_indices = []\n",
    "        col_indices = []\n",
    "\n",
    "        # Lire les éléments non nuls\n",
    "        for _ in range(non_zero_count):\n",
    "            r, c, val = file.readline().split()\n",
    "            row_indices.append(int(r))\n",
    "            col_indices.append(int(c))\n",
    "            data.append(float(val))\n",
    "\n",
    "    # Créer la matrice COO\n",
    "    return coo_matrix((data, (row_indices, col_indices)), shape=(rows, cols)).toarray()\n",
    "\n",
    "# Utilisation de la fonction\n",
    "# coo_mat = read_coo_matrix('nom_de_votre_fichier.txt')\n"
   ]
  },
  {
   "cell_type": "code",
   "execution_count": null,
   "metadata": {},
   "outputs": [],
   "source": [
    "print(\"100 premiers éléments de der_CP:\")\n",
    "C=read_coo_matrix('BF_Support_c.dat')\n",
    "print(C[0, 0:100])\n",
    "\n",
    "print(\"\\n100 premiers éléments de der_CP_c:\")\n",
    "print(C[0, 0:100]-BF_support[0, 0:100])\n",
    "A=BF_support[0:1000, 0:1000]\n",
    "B=C[0:1000, 0:1000]\n",
    "comparison = np.isclose(A, B, atol=1e-6)\n",
    "if comparison.all():\n",
    "    print(\"Both results are consistent.\")\n",
    "else:\n",
    "    print(\"There is a discrepancy between the results.\")"
   ]
  },
  {
   "cell_type": "code",
   "execution_count": null,
   "metadata": {},
   "outputs": [],
   "source": [
    "import sys\n",
    "sys.path.append(r'C:\\Users\\red-y\\Desktop\\S9\\HPC-PROJECT\\GRADIENTS')  # Utilisation de la barre oblique inversée brute\n",
    "\n",
    "from compliance_mM import *\n",
    "from volume_mM import *\n",
    "import numpy as np\n",
    "from local_Support_mM import *\n",
    "\n",
    "\n",
    "op_dir = os.path.join(WD, OP, problem_name)\n",
    "### Reading files ##\n",
    "ELEMENTS = np.loadtxt('ELEMENTS.dat')\n",
    "\n",
    "### Not the most efficient to read rho_e, but ensures it has the right dimension for brodcasting operations (number of elements,1)\n",
    "\n",
    "rho_temp = np.loadtxt('rho_e_test.dat')\n",
    "rho_e = np.zeros((len(rho_temp),1))\n",
    "rho_e[:,0] = rho_temp\n",
    "\n",
    "scale = 'standard'\n",
    "IND_mask = np.loadtxt(\"IND_mask_test.dat\",dtype=int)\n",
    "IND_mask_tot = np.loadtxt('IND_mask_tot_test.dat',dtype=int)\n",
    "U1 = np.loadtxt('U1.dat')\n",
    "U2 = np.loadtxt('U2.dat')\n",
    "U3 = np.loadtxt('U3.dat')\n",
    "\n",
    "### P_rho and W are 3D arrays that were saved as 2D arrays, we thus must reshape them after reading\n",
    "P_rho = np.loadtxt('P_rho_test.dat').reshape(28,28,28)\n",
    "W = np.loadtxt('W_test.dat').reshape(28,28,28)\n",
    "\n",
    "#It's faster to compute BF_support than read it\n",
    "print(\"calcul local_support_fun\")\n",
    "local_support, BF_support, IND_mask_active = local_support_fun(ELEMENTS, IND_mask, IND_mask_tot, U1, U2, U3, scale)\n"
   ]
  },
  {
   "cell_type": "code",
   "execution_count": null,
   "metadata": {},
   "outputs": [],
   "source": [
    "BF_support_c = np.loadtxt('BF_support_c.txt')\n",
    "print(\"100 premiers éléments de BF_support:\")\n",
    "print(BF_support[0, 0:100])\n",
    "\n",
    "print(\"\\n100 premiers éléments de BF_support_c:\")\n",
    "print(der_CP_c[0, 0:100])"
   ]
  },
  {
   "cell_type": "code",
   "execution_count": null,
   "metadata": {},
   "outputs": [],
   "source": [
    "print(\"\\n100 premiers éléments de BF_support_c:\")\n",
    "print(BF_support_c[0, 0:100]) \n",
    "print(\"\\n100 premiers éléments de BF_support_c:\")\n",
    "print(BF_support[0, 0:100])"
   ]
  },
  {
   "cell_type": "code",
   "execution_count": null,
   "metadata": {},
   "outputs": [],
   "source": [
    "\n",
    "print(\"debut de la comparaison.\")\n",
    "# Compare 'der_CP' (Python computed) and 'der_CP_c' (loaded from file)\n",
    "comparison = np.isclose(BF_support, BF_support_c, atol=1e-8)  # Set an appropriate tolerance\n",
    "\n",
    "# Check if all elements are close enough\n",
    "if comparison.all():\n",
    "    print(\"Both results are consistent.\")\n",
    "else:\n",
    "    print(\"There is a discrepancy between the results.\")"
   ]
  }
 ],
 "metadata": {
  "kernelspec": {
   "display_name": "Python 3",
   "language": "python",
   "name": "python3"
  },
  "language_info": {
   "codemirror_mode": {
    "name": "ipython",
    "version": 3
   },
   "file_extension": ".py",
   "mimetype": "text/x-python",
   "name": "python",
   "nbconvert_exporter": "python",
   "pygments_lexer": "ipython3",
   "version": "3.10.1"
  }
 },
 "nbformat": 4,
 "nbformat_minor": 2
}
